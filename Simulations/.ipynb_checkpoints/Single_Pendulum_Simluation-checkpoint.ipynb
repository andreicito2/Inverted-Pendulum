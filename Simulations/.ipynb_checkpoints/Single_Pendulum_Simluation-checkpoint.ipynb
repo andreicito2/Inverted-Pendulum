{
 "cells": [
  {
   "cell_type": "markdown",
   "id": "fd2baea0",
   "metadata": {},
   "source": [
    "Simulation"
   ]
  },
  {
   "cell_type": "code",
   "execution_count": null,
   "id": "6ac5a49e",
   "metadata": {},
   "outputs": [
    {
     "ename": "ModuleNotFoundError",
     "evalue": "No module named 'numpy'",
     "output_type": "error",
     "traceback": [
      "\u001b[1;31m---------------------------------------------------------------------------\u001b[0m",
      "\u001b[1;31mModuleNotFoundError\u001b[0m                       Traceback (most recent call last)",
      "Cell \u001b[1;32mIn[1], line 1\u001b[0m\n\u001b[1;32m----> 1\u001b[0m \u001b[38;5;28;01mimport\u001b[39;00m \u001b[38;5;21;01mnumpy\u001b[39;00m \u001b[38;5;28;01mas\u001b[39;00m \u001b[38;5;21;01mnp\u001b[39;00m\n\u001b[0;32m      2\u001b[0m \u001b[38;5;28;01mfrom\u001b[39;00m \u001b[38;5;21;01mcontrol\u001b[39;00m \u001b[38;5;28;01mimport\u001b[39;00m lqr, ss, forced_response\n\u001b[0;32m      4\u001b[0m \u001b[38;5;28;01mimport\u001b[39;00m \u001b[38;5;21;01mmatplotlib\u001b[39;00m\u001b[38;5;21;01m.\u001b[39;00m\u001b[38;5;21;01mpyplot\u001b[39;00m \u001b[38;5;28;01mas\u001b[39;00m \u001b[38;5;21;01mplt\u001b[39;00m\n",
      "\u001b[1;31mModuleNotFoundError\u001b[0m: No module named 'numpy'"
     ]
    }
   ],
   "source": [
    "import numpy as np\n",
    "from control import lqr, ss, forced_response\n",
    "\n",
    "import matplotlib.pyplot as plt\n",
    "from matplotlib.animation import FuncAnimation\n",
    "\n",
    "# Define system parameters\n",
    "m = 0.0318  # Mass of the pendulum (kg)\n",
    "M = 0.3333  # Mass of the cart (kg)\n",
    "l = 0.316/2  # Length of the pendulum (m)\n",
    "g = 9.81  # Gravitational acceleration (m/s^2)\n",
    "I = 0.0085*(0.0098**2+0.0379**2)/12 + m*((l*2)**22)/3  # Moment of inertia (kg*m^2)\n",
    "\n",
    "# Damping coefficient (not used in LQR but can be included for more realistic dynamics)\n",
    "a1 = 0.0185\n",
    "c1 = 2*a1*I      # Viscous friction of pendulum 1 (rotational) (Nms/rad)\n",
    "\n",
    "alpha = 12.2;      # Carriage slope (deg)\n",
    "xdotss = 0.4852;   # Terminal velocity (m/s)\n",
    "c = (M+m)*g*np.sin(alpha*np.pi/180)/xdotss;   # Damping / Viscous Friction (kg/s)\n",
    "\n",
    "# State-space matrices\n",
    "denom = (M+m)*(m*l**2+I)\n",
    "\n",
    "A = np.array([\n",
    "    [0, 1, 0, 0],\n",
    "    [0, -(m*l**2+I)*c/denom, m**2*l**2*g/denom, m*l*c1/denom],\n",
    "    [0, 0, 0, 1],\n",
    "    [0, -m*l*c/denom, (M+m)*m*l*g/denom, (M+m)*c1/denom]\n",
    "])\n",
    "B = np.array([[0], [(m*l**2+I)/denom], [0], [m*l/denom]])\n",
    "C = np.eye(4)\n",
    "D = np.zeros((4, 1))\n",
    "\n",
    "# Create state-space system\n",
    "system = ss(A, B, C, D)\n",
    "\n",
    "# LQR controller design\n",
    "Q = np.diag([48000, 0, 100, 0])  # State cost matrix\n",
    "R = np.array([[1]])        # Control effort cost\n",
    "K, _, _ = lqr(A, B, Q, R)\n",
    "\n",
    "# Simulation parameters\n",
    "T = np.linspace(0, 10, 1000)  # 10 seconds, 1000 points\n",
    "X0 = [0.0, 0.0, 0.1, 0.0]     # Initial state: small angle offset\n",
    "\n",
    "# Reference (desired state)\n",
    "ref = np.zeros((4, len(T)))   # Track zero for all states\n",
    "\n",
    "# Simulate closed-loop system\n",
    "def lqr_control(t, x):\n",
    "    # u = -Kx\n",
    "    u = -K @ x.reshape(-1, 1)\n",
    "    return u.item()\n",
    "\n",
    "X = np.zeros((4, len(T)))\n",
    "X[:, 0] = X0\n",
    "U = np.zeros(len(T))\n",
    "\n",
    "dt = T[1] - T[0]\n",
    "for i in range(1, len(T)):\n",
    "    u = lqr_control(T[i-1], X[:, i-1])\n",
    "    U[i-1] = u\n",
    "    # x_dot = Ax + Bu\n",
    "    x_dot = A @ X[:, i-1] + B.flatten() * u\n",
    "    X[:, i] = X[:, i-1] + x_dot * dt\n",
    "\n",
    "# Plot all states on the same graph\n",
    "plt.figure(figsize=(10, 6))\n",
    "plt.plot(T, X[0, :], label='Cart Position (m)')\n",
    "plt.plot(T, X[1, :], label='Cart Velocity (m/s)')\n",
    "plt.plot(T, X[2, :], label='Pendulum Angle (rad)')\n",
    "plt.plot(T, X[3, :], label='Pendulum Angular Velocity (rad/s)')\n",
    "plt.xlabel('Time (s)')\n",
    "plt.ylabel('State Value')\n",
    "plt.title('Inverted Pendulum States Over Time')\n",
    "plt.legend()\n",
    "plt.grid(True)\n",
    "plt.tight_layout()\n",
    "plt.show()"
   ]
  }
 ],
 "metadata": {
  "kernelspec": {
   "display_name": "Python 3",
   "language": "python",
   "name": "python3"
  },
  "language_info": {
   "codemirror_mode": {
    "name": "ipython",
    "version": 3
   },
   "file_extension": ".py",
   "mimetype": "text/x-python",
   "name": "python",
   "nbconvert_exporter": "python",
   "pygments_lexer": "ipython3",
   "version": "3.13.0"
  }
 },
 "nbformat": 4,
 "nbformat_minor": 5
}
